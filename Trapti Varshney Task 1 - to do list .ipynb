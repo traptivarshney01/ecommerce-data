{
 "cells": [
  {
   "cell_type": "code",
   "execution_count": 1,
   "id": "aa96775a",
   "metadata": {},
   "outputs": [],
   "source": [
    "import os "
   ]
  },
  {
   "cell_type": "code",
   "execution_count": 2,
   "id": "10f64676",
   "metadata": {},
   "outputs": [],
   "source": [
    "from tkinter import *\n",
    "from tkinter import ttk"
   ]
  },
  {
   "cell_type": "code",
   "execution_count": 5,
   "id": "c4fd680a",
   "metadata": {},
   "outputs": [],
   "source": [
    "from tkinter import Tk, Label, Listbox, Text, Button, END\n",
    "\n",
    "class Todo:\n",
    "    def __init__(self, root):\n",
    "        self.root = root\n",
    "        self.root.title('To-do-list')\n",
    "        self.root.geometry('650x410+300+150')\n",
    "        \n",
    "        self.label = Label(self.root, text='To-Do-List-App',\n",
    "                           font='Arial 25 bold', width=10, bd=5, bg='orange', fg='black')\n",
    "        self.label.pack(side='top')\n",
    "\n",
    "        self.label2 = Label(self.root, text='Add Task',\n",
    "                            font='Arial 18 bold', width=10, bd=5, bg='orange', fg='black')\n",
    "        self.label2.place(x=40, y=54)\n",
    "\n",
    "        self.label3 = Label(self.root, text='Tasks',\n",
    "                            font='Arial 18 bold', width=10, bd=5, bg='orange', fg='black')\n",
    "        self.label3.place(x=40, y=50)\n",
    "\n",
    "        self.main_text = Listbox(self.root, height=9, bd=5, width=23, font='Arial 20 italic bold')\n",
    "        self.main_text.place(x=280, y=100)\n",
    "\n",
    "        self.text = Text(self.root, bd=5, height=2, width=30, font='Arial 10 bold')\n",
    "        self.text.place(x=20, y=120)\n",
    "\n",
    "        # Function to add a task\n",
    "        def add():\n",
    "            content = self.text.get(1.0, END)\n",
    "            self.main_text.insert(END, content)\n",
    "            with open('data.txt', 'a+') as file:\n",
    "                file.write(content)\n",
    "                \n",
    "            self.text.delete(1.0, END)\n",
    "\n",
    "        # Function to delete a task\n",
    "        def delete():\n",
    "            delete = self.main_text.curselection()\n",
    "            look = self.main_text.get(delete)\n",
    "            with open('data.txt', 'r+') as f:\n",
    "                new_f = f.readlines()\n",
    "                f.seek(0)\n",
    "                for line in new_f:\n",
    "                    item = str(look)\n",
    "                    if item not in line:\n",
    "                        f.write(line)\n",
    "                f.truncate()\n",
    "            self.main_text.delete(delete)\n",
    "\n",
    "        # Create 'data.txt' file if it doesn't exist\n",
    "        try:\n",
    "            open('data.txt', 'r')\n",
    "        except FileNotFoundError:\n",
    "            open('data.txt', 'w').close()\n",
    "\n",
    "        # Rest of your code remains unchanged...\n",
    "        \n",
    "        # Buttons for add and delete\n",
    "        self.button = Button(self.root, text='Add', font='Arial 20 bold italic',\n",
    "                             width=10, bd=5, bg='orange', fg='black', command=add)\n",
    "        self.button.place(x=30, y=180)\n",
    "\n",
    "        self.button2 = Button(self.root, text='Delete', font='Arial 20 bold italic',\n",
    "                              width=10, bd=5, bg='orange', fg='black', command=delete)\n",
    "        self.button2.place(x=30, y=280)\n",
    "\n",
    "\n",
    "def main():\n",
    "    root = Tk()\n",
    "    ui = Todo(root)\n",
    "    root.mainloop()\n",
    "\n",
    "if __name__ == \"__main__\":\n",
    "    main()\n"
   ]
  },
  {
   "cell_type": "code",
   "execution_count": null,
   "id": "d6fd9a6d",
   "metadata": {},
   "outputs": [],
   "source": []
  },
  {
   "cell_type": "code",
   "execution_count": null,
   "id": "95646cdc",
   "metadata": {},
   "outputs": [],
   "source": []
  }
 ],
 "metadata": {
  "kernelspec": {
   "display_name": "Python 3 (ipykernel)",
   "language": "python",
   "name": "python3"
  },
  "language_info": {
   "codemirror_mode": {
    "name": "ipython",
    "version": 3
   },
   "file_extension": ".py",
   "mimetype": "text/x-python",
   "name": "python",
   "nbconvert_exporter": "python",
   "pygments_lexer": "ipython3",
   "version": "3.9.12"
  }
 },
 "nbformat": 4,
 "nbformat_minor": 5
}
